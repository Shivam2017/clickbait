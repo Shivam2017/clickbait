{
 "cells": [
  {
   "cell_type": "markdown",
   "id": "e7f155c0",
   "metadata": {},
   "source": [
    "### Verizon Assessment \n",
    "* Classification Model building which will identify if the statement is clickbait or not"
   ]
  },
  {
   "cell_type": "code",
   "execution_count": 1,
   "id": "fab753d8",
   "metadata": {},
   "outputs": [],
   "source": [
    "import numpy as np \n",
    "import pandas as pd\n",
    "from nltk.corpus import stopwords\n",
    "from nltk.stem import WordNetLemmatizer\n",
    "import re"
   ]
  },
  {
   "cell_type": "code",
   "execution_count": 2,
   "id": "f2cde91f",
   "metadata": {},
   "outputs": [],
   "source": [
    "# Reading the received excel sheet\n",
    "df = pd.read_excel(r'Dataset_for_NLP.xlsx',sheet_name='Sheet2')"
   ]
  },
  {
   "cell_type": "code",
   "execution_count": 3,
   "id": "853de267",
   "metadata": {
    "scrolled": true
   },
   "outputs": [
    {
     "data": {
      "text/html": [
       "<div>\n",
       "<style scoped>\n",
       "    .dataframe tbody tr th:only-of-type {\n",
       "        vertical-align: middle;\n",
       "    }\n",
       "\n",
       "    .dataframe tbody tr th {\n",
       "        vertical-align: top;\n",
       "    }\n",
       "\n",
       "    .dataframe thead th {\n",
       "        text-align: right;\n",
       "    }\n",
       "</style>\n",
       "<table border=\"1\" class=\"dataframe\">\n",
       "  <thead>\n",
       "    <tr style=\"text-align: right;\">\n",
       "      <th></th>\n",
       "      <th>title</th>\n",
       "      <th>label</th>\n",
       "    </tr>\n",
       "  </thead>\n",
       "  <tbody>\n",
       "    <tr>\n",
       "      <th>0</th>\n",
       "      <td>15 Highly Important Questions About Adulthood,...</td>\n",
       "      <td>clickbait</td>\n",
       "    </tr>\n",
       "    <tr>\n",
       "      <th>1</th>\n",
       "      <td>250 Nuns Just Cycled All The Way From Kathmand...</td>\n",
       "      <td>clickbait</td>\n",
       "    </tr>\n",
       "    <tr>\n",
       "      <th>2</th>\n",
       "      <td>Australian comedians \"could have been shot\" du...</td>\n",
       "      <td>not-clickbait</td>\n",
       "    </tr>\n",
       "    <tr>\n",
       "      <th>3</th>\n",
       "      <td>Lycos launches screensaver to increase spammer...</td>\n",
       "      <td>not-clickbait</td>\n",
       "    </tr>\n",
       "    <tr>\n",
       "      <th>4</th>\n",
       "      <td>Fußball-Bundesliga 2008–09: Goalkeeper Butt si...</td>\n",
       "      <td>not-clickbait</td>\n",
       "    </tr>\n",
       "  </tbody>\n",
       "</table>\n",
       "</div>"
      ],
      "text/plain": [
       "                                               title          label\n",
       "0  15 Highly Important Questions About Adulthood,...      clickbait\n",
       "1  250 Nuns Just Cycled All The Way From Kathmand...      clickbait\n",
       "2  Australian comedians \"could have been shot\" du...  not-clickbait\n",
       "3  Lycos launches screensaver to increase spammer...  not-clickbait\n",
       "4  Fußball-Bundesliga 2008–09: Goalkeeper Butt si...  not-clickbait"
      ]
     },
     "execution_count": 3,
     "metadata": {},
     "output_type": "execute_result"
    }
   ],
   "source": [
    "df.head() # to chcek first five datapoint "
   ]
  },
  {
   "cell_type": "code",
   "execution_count": 4,
   "id": "8f499316",
   "metadata": {},
   "outputs": [
    {
     "data": {
      "text/plain": [
       "(10000, 2)"
      ]
     },
     "execution_count": 4,
     "metadata": {},
     "output_type": "execute_result"
    }
   ],
   "source": [
    "df.shape #to chheck the shape of the dataframe"
   ]
  },
  {
   "cell_type": "code",
   "execution_count": 5,
   "id": "caf7a7f4",
   "metadata": {
    "scrolled": true
   },
   "outputs": [
    {
     "data": {
      "text/html": [
       "<div>\n",
       "<style scoped>\n",
       "    .dataframe tbody tr th:only-of-type {\n",
       "        vertical-align: middle;\n",
       "    }\n",
       "\n",
       "    .dataframe tbody tr th {\n",
       "        vertical-align: top;\n",
       "    }\n",
       "\n",
       "    .dataframe thead th {\n",
       "        text-align: right;\n",
       "    }\n",
       "</style>\n",
       "<table border=\"1\" class=\"dataframe\">\n",
       "  <thead>\n",
       "    <tr style=\"text-align: right;\">\n",
       "      <th></th>\n",
       "      <th>title</th>\n",
       "      <th>label</th>\n",
       "    </tr>\n",
       "  </thead>\n",
       "  <tbody>\n",
       "    <tr>\n",
       "      <th>count</th>\n",
       "      <td>10000</td>\n",
       "      <td>10000</td>\n",
       "    </tr>\n",
       "    <tr>\n",
       "      <th>unique</th>\n",
       "      <td>10000</td>\n",
       "      <td>2</td>\n",
       "    </tr>\n",
       "    <tr>\n",
       "      <th>top</th>\n",
       "      <td>15 Highly Important Questions About Adulthood,...</td>\n",
       "      <td>not-clickbait</td>\n",
       "    </tr>\n",
       "    <tr>\n",
       "      <th>freq</th>\n",
       "      <td>1</td>\n",
       "      <td>5002</td>\n",
       "    </tr>\n",
       "  </tbody>\n",
       "</table>\n",
       "</div>"
      ],
      "text/plain": [
       "                                                    title          label\n",
       "count                                               10000          10000\n",
       "unique                                              10000              2\n",
       "top     15 Highly Important Questions About Adulthood,...  not-clickbait\n",
       "freq                                                    1           5002"
      ]
     },
     "execution_count": 5,
     "metadata": {},
     "output_type": "execute_result"
    }
   ],
   "source": [
    "df.describe()  # to check duplicate and unique datapoint"
   ]
  },
  {
   "cell_type": "code",
   "execution_count": 6,
   "id": "6705ea4b",
   "metadata": {
    "scrolled": true
   },
   "outputs": [
    {
     "data": {
      "text/plain": [
       "not-clickbait    5002\n",
       "clickbait        4998\n",
       "Name: label, dtype: int64"
      ]
     },
     "execution_count": 6,
     "metadata": {},
     "output_type": "execute_result"
    }
   ],
   "source": [
    "df['label'].value_counts()"
   ]
  },
  {
   "cell_type": "code",
   "execution_count": 7,
   "id": "6d50a65c",
   "metadata": {},
   "outputs": [],
   "source": [
    "# Importing essential libraries for visualization\n",
    "import matplotlib.pyplot as plt\n",
    "import seaborn as sns\n",
    "%matplotlib inline"
   ]
  },
  {
   "cell_type": "code",
   "execution_count": 8,
   "id": "9cbe50fa",
   "metadata": {
    "scrolled": true
   },
   "outputs": [
    {
     "data": {
      "image/png": "[encoded data removed]",
      "text/plain": [
       "<Figure size 576x360 with 1 Axes>"
      ]
     },
     "metadata": {
      "needs_background": "light"
     },
     "output_type": "display_data"
    }
   ],
   "source": [
    "# Visualizing the count of 'clickbait' and 'not-clickbait' in the dataset\n",
    "plt.figure(figsize=(8,5))\n",
    "sns.set_theme(style=\"darkgrid\")\n",
    "ax = sns.countplot(x='label', data=df, palette=\"plasma\")\n",
    "for p in ax.patches:\n",
    "   ax.annotate('{:.1f}'.format(p.get_height()), (p.get_x()+0.25, p.get_height()+0.01))"
   ]
  },
  {
   "cell_type": "markdown",
   "id": "3acad096",
   "metadata": {},
   "source": [
    "* Here we can see that datset is balanced and hence we are moving towrad data processing"
   ]
  },
  {
   "cell_type": "markdown",
   "id": "145b1b73",
   "metadata": {},
   "source": [
    "#### Data Processing"
   ]
  },
  {
   "cell_type": "code",
   "execution_count": 9,
   "id": "bc22a2f7",
   "metadata": {},
   "outputs": [],
   "source": [
    "from sklearn.preprocessing import LabelEncoder\n",
    "pd.options.mode.chained_assignment = None"
   ]
  },
  {
   "cell_type": "code",
   "execution_count": 10,
   "id": "84f499c0",
   "metadata": {},
   "outputs": [
    {
     "data": {
      "text/html": [
       "<div>\n",
       "<style scoped>\n",
       "    .dataframe tbody tr th:only-of-type {\n",
       "        vertical-align: middle;\n",
       "    }\n",
       "\n",
       "    .dataframe tbody tr th {\n",
       "        vertical-align: top;\n",
       "    }\n",
       "\n",
       "    .dataframe thead th {\n",
       "        text-align: right;\n",
       "    }\n",
       "</style>\n",
       "<table border=\"1\" class=\"dataframe\">\n",
       "  <thead>\n",
       "    <tr style=\"text-align: right;\">\n",
       "      <th></th>\n",
       "      <th>title</th>\n",
       "      <th>label</th>\n",
       "    </tr>\n",
       "  </thead>\n",
       "  <tbody>\n",
       "    <tr>\n",
       "      <th>0</th>\n",
       "      <td>15 Highly Important Questions About Adulthood,...</td>\n",
       "      <td>0</td>\n",
       "    </tr>\n",
       "    <tr>\n",
       "      <th>1</th>\n",
       "      <td>250 Nuns Just Cycled All The Way From Kathmand...</td>\n",
       "      <td>0</td>\n",
       "    </tr>\n",
       "    <tr>\n",
       "      <th>2</th>\n",
       "      <td>Australian comedians \"could have been shot\" du...</td>\n",
       "      <td>1</td>\n",
       "    </tr>\n",
       "    <tr>\n",
       "      <th>3</th>\n",
       "      <td>Lycos launches screensaver to increase spammer...</td>\n",
       "      <td>1</td>\n",
       "    </tr>\n",
       "    <tr>\n",
       "      <th>4</th>\n",
       "      <td>Fußball-Bundesliga 2008–09: Goalkeeper Butt si...</td>\n",
       "      <td>1</td>\n",
       "    </tr>\n",
       "  </tbody>\n",
       "</table>\n",
       "</div>"
      ],
      "text/plain": [
       "                                               title  label\n",
       "0  15 Highly Important Questions About Adulthood,...      0\n",
       "1  250 Nuns Just Cycled All The Way From Kathmand...      0\n",
       "2  Australian comedians \"could have been shot\" du...      1\n",
       "3  Lycos launches screensaver to increase spammer...      1\n",
       "4  Fußball-Bundesliga 2008–09: Goalkeeper Butt si...      1"
      ]
     },
     "execution_count": 10,
     "metadata": {},
     "output_type": "execute_result"
    }
   ],
   "source": [
    "df['label'] = LabelEncoder().fit_transform(df['label'])\n",
    "df.head()   #datapoints post doing labelencoder"
   ]
  },
  {
   "cell_type": "code",
   "execution_count": 11,
   "id": "6bb850f3",
   "metadata": {},
   "outputs": [],
   "source": [
    "# Cleaning the dataset\n",
    "wnl = WordNetLemmatizer()\n",
    "for i in range(0,df.shape[0]):\n",
    "  # Cleaning special character from the message\n",
    "  message = re.sub(pattern='[^a-zA-Z]', repl=' ', string=df.title[i])\n",
    "  # Converting the entire message into lower case\n",
    "  message = message.lower()\n",
    "  # Tokenizing the review by words\n",
    "  words = message.split()\n",
    "  # Removing the stop words\n",
    "  words = [word for word in words if word not in set(stopwords.words('english'))]\n",
    "  # Stemming the words\n",
    "  words = [wnl.lemmatize(word) for word in words]\n",
    "  # Joining the stemmed words\n",
    "  df.title[i] = ' '.join(words)"
   ]
  },
  {
   "cell_type": "code",
   "execution_count": 12,
   "id": "654fac0c",
   "metadata": {},
   "outputs": [
    {
     "data": {
      "text/html": [
       "<div>\n",
       "<style scoped>\n",
       "    .dataframe tbody tr th:only-of-type {\n",
       "        vertical-align: middle;\n",
       "    }\n",
       "\n",
       "    .dataframe tbody tr th {\n",
       "        vertical-align: top;\n",
       "    }\n",
       "\n",
       "    .dataframe thead th {\n",
       "        text-align: right;\n",
       "    }\n",
       "</style>\n",
       "<table border=\"1\" class=\"dataframe\">\n",
       "  <thead>\n",
       "    <tr style=\"text-align: right;\">\n",
       "      <th></th>\n",
       "      <th>title</th>\n",
       "      <th>label</th>\n",
       "    </tr>\n",
       "  </thead>\n",
       "  <tbody>\n",
       "    <tr>\n",
       "      <th>0</th>\n",
       "      <td>highly important question adulthood answered m...</td>\n",
       "      <td>0</td>\n",
       "    </tr>\n",
       "    <tr>\n",
       "      <th>1</th>\n",
       "      <td>nun cycled way kathmandu new delhi</td>\n",
       "      <td>0</td>\n",
       "    </tr>\n",
       "    <tr>\n",
       "      <th>2</th>\n",
       "      <td>australian comedian could shot apec prank</td>\n",
       "      <td>1</td>\n",
       "    </tr>\n",
       "    <tr>\n",
       "      <th>3</th>\n",
       "      <td>lycos launch screensaver increase spammer bill</td>\n",
       "      <td>1</td>\n",
       "    </tr>\n",
       "    <tr>\n",
       "      <th>4</th>\n",
       "      <td>fu ball bundesliga goalkeeper butt sign bayern...</td>\n",
       "      <td>1</td>\n",
       "    </tr>\n",
       "  </tbody>\n",
       "</table>\n",
       "</div>"
      ],
      "text/plain": [
       "                                               title  label\n",
       "0  highly important question adulthood answered m...      0\n",
       "1                 nun cycled way kathmandu new delhi      0\n",
       "2          australian comedian could shot apec prank      1\n",
       "3     lycos launch screensaver increase spammer bill      1\n",
       "4  fu ball bundesliga goalkeeper butt sign bayern...      1"
      ]
     },
     "execution_count": 12,
     "metadata": {},
     "output_type": "execute_result"
    }
   ],
   "source": [
    "df.head()"
   ]
  },
  {
   "cell_type": "markdown",
   "id": "1e92b247",
   "metadata": {},
   "source": [
    "#### Model Building\n",
    "* Used TFIDF technique to vectorize the statement\n",
    "* Naive bayes work good with binary classfication in NLP data, hence used it for model building"
   ]
  },
  {
   "cell_type": "code",
   "execution_count": 13,
   "id": "fa473d9d",
   "metadata": {},
   "outputs": [],
   "source": [
    "from sklearn.model_selection import train_test_split\n",
    "from sklearn.feature_extraction.text import TfidfVectorizer\n",
    "x = df['title']\n",
    "y = df['label']\n",
    "# Splitting train and test datapoint\n",
    "train_x,test_x,train_y,test_y=train_test_split(x,y,test_size=0.25,random_state=2)"
   ]
  },
  {
   "cell_type": "code",
   "execution_count": 14,
   "id": "0b9e59d6",
   "metadata": {},
   "outputs": [
    {
     "name": "stdout",
     "output_type": "stream",
     "text": [
      "Shape of Train Feature: (7500,)\n",
      "Shape of Test Feature: (2500,)\n",
      "Shape of Train Label: (7500,)\n",
      "Shape of Test Label: (2500,)\n"
     ]
    }
   ],
   "source": [
    "# Checking the sahpe of train and test datapoint\n",
    "print(f\"Shape of Train Feature: {train_x.shape}\")\n",
    "print(f\"Shape of Test Feature: {test_x.shape}\")\n",
    "print(f\"Shape of Train Label: {train_y.shape}\")\n",
    "print(f\"Shape of Test Label: {test_y.shape}\")"
   ]
  },
  {
   "cell_type": "code",
   "execution_count": 15,
   "id": "f8a5a3e4",
   "metadata": {},
   "outputs": [],
   "source": [
    "# Implementing TF-IDF for model building\n",
    "tfidf=TfidfVectorizer()\n",
    "train_1=tfidf.fit_transform(train_x)\n",
    "test_1=tfidf.transform(test_x)"
   ]
  },
  {
   "cell_type": "code",
   "execution_count": 16,
   "id": "45f0b4f4",
   "metadata": {},
   "outputs": [
    {
     "name": "stdout",
     "output_type": "stream",
     "text": [
      "Number of features extracted\n",
      "9751\n",
      "The 100 features extracted from TF-IDF \n",
      "['aa', 'aaa', 'aaevpc', 'aaron', 'ab', 'abandon', 'abandoned', 'abandoning', 'abbas', 'abbey', 'abc', 'abducted', 'abduction', 'abductor', 'abdul', 'abdullah', 'abdulmutallab', 'abel', 'abercrombie', 'ability', 'abitibibowater', 'abkhazia', 'ablaze', 'able', 'aboard', 'abolished', 'aborigine', 'aborted', 'abortion', 'abound', 'abrams', 'abroad', 'abrogates', 'absence', 'absentee', 'absolute', 'absolutely', 'abstention', 'abu', 'abuela', 'abuelita', 'abuse', 'abusing', 'academic', 'academy', 'acapella', 'accelerates', 'accent', 'acceptance', 'accepted', 'accepts', 'access', 'accessory', 'accident', 'accidental', 'accidentally', 'accord', 'according', 'account', 'accountant', 'accra', 'accurate', 'accusation', 'accuse', 'accused', 'accuses', 'ache', 'achievement', 'acid', 'acknowledge', 'acknowledges', 'aclu', 'acorn', 'acquired', 'acquires', 'acquisition', 'acquit', 'acquitted', 'across', 'act', 'acted', 'acting', 'action', 'activated', 'actively', 'activist', 'activity', 'actor', 'actress', 'actual', 'actually', 'ad', 'adam', 'adamov', 'adapt', 'adaptation', 'add', 'addams', 'added', 'addict']\n"
     ]
    }
   ],
   "source": [
    "print(\"Number of features extracted\")\n",
    "print(len(tfidf.get_feature_names()))\n",
    "print(\"The 100 features extracted from TF-IDF \")\n",
    "print(tfidf.get_feature_names()[:100])"
   ]
  },
  {
   "cell_type": "code",
   "execution_count": 17,
   "id": "832f1c3c",
   "metadata": {},
   "outputs": [
    {
     "name": "stdout",
     "output_type": "stream",
     "text": [
      "Shape of train set (7500, 9751)\n",
      "Shape of test set (2500, 9751)\n"
     ]
    }
   ],
   "source": [
    "# Checking the shape of train and test set after converting into vector\n",
    "print(\"Shape of train set\",train_1.shape)\n",
    "print(\"Shape of test set\",test_1.shape)"
   ]
  },
  {
   "cell_type": "code",
   "execution_count": 18,
   "id": "586ad24c",
   "metadata": {},
   "outputs": [],
   "source": [
    "train_arr=train_1.toarray()\n",
    "test_arr=test_1.toarray()"
   ]
  },
  {
   "cell_type": "code",
   "execution_count": 19,
   "id": "0dd4293a",
   "metadata": {},
   "outputs": [
    {
     "name": "stdout",
     "output_type": "stream",
     "text": [
      "first 10 actual labels:  [0, 1, 0, 1, 0, 1, 0, 1, 1, 1]\n",
      "first 10 predicted labels:  [0, 1, 0, 1, 0, 1, 0, 1, 1, 1]\n"
     ]
    }
   ],
   "source": [
    "from sklearn.naive_bayes import MultinomialNB\n",
    "# Multinomial Naive-Bayes object, as naive bayes work good with binary classfication in NLP data\n",
    "NB_MN=MultinomialNB()\n",
    "# Model Train\n",
    "NB_MN.fit(train_arr,train_y)\n",
    "# Prediction\n",
    "pred=NB_MN.predict(test_arr)\n",
    "print('first 10 actual labels: ',test_y.tolist()[:10])\n",
    "print('first 10 predicted labels: ',pred.tolist()[:10])"
   ]
  },
  {
   "cell_type": "markdown",
   "id": "ea595d64",
   "metadata": {},
   "source": [
    "#### Model Evaluation"
   ]
  },
  {
   "cell_type": "code",
   "execution_count": 20,
   "id": "cb468c6c",
   "metadata": {},
   "outputs": [],
   "source": [
    "# Importing libraries for model evaluation on metrics\n",
    "from sklearn.metrics import classification_report, confusion_matrix, f1_score, accuracy_score"
   ]
  },
  {
   "cell_type": "code",
   "execution_count": 21,
   "id": "6d54b81b",
   "metadata": {},
   "outputs": [
    {
     "name": "stdout",
     "output_type": "stream",
     "text": [
      "Confusion Matrix\n",
      "[[1187   48]\n",
      " [  98 1167]]\n"
     ]
    }
   ],
   "source": [
    "print(\"Confusion Matrix\")\n",
    "print(confusion_matrix(test_y,pred))"
   ]
  },
  {
   "cell_type": "code",
   "execution_count": 22,
   "id": "592da792",
   "metadata": {},
   "outputs": [
    {
     "data": {
      "text/plain": [
       "Text(21.5, 0.5, 'Actual values')"
      ]
     },
     "execution_count": 22,
     "metadata": {},
     "output_type": "execute_result"
    },
    {
     "data": {
      "image/png": "[encoded data removed]",
      "text/plain": [
       "<Figure size 360x288 with 2 Axes>"
      ]
     },
     "metadata": {},
     "output_type": "display_data"
    }
   ],
   "source": [
    "# Plotting the confusion matrix\n",
    "plt.figure(figsize=(5,4))\n",
    "sns.heatmap(confusion_matrix(test_y,pred), annot=True)\n",
    "plt.xlabel('Predicted values')\n",
    "plt.ylabel('Actual values')"
   ]
  },
  {
   "cell_type": "code",
   "execution_count": 23,
   "id": "be3f3402",
   "metadata": {},
   "outputs": [
    {
     "name": "stdout",
     "output_type": "stream",
     "text": [
      "F1 score of the model\n",
      "0.9411290322580644\n",
      "Accuracy of the model\n",
      "0.9416\n",
      "Accuracy of the model in percentage\n",
      "94.16 %\n"
     ]
    }
   ],
   "source": [
    "print(\"F1 score of the model\")\n",
    "print(f1_score(test_y,pred))\n",
    "print(\"Accuracy of the model\")\n",
    "print(accuracy_score(test_y,pred))\n",
    "print(\"Accuracy of the model in percentage\")\n",
    "print(accuracy_score(test_y,pred)*100,\"%\")"
   ]
  },
  {
   "cell_type": "markdown",
   "id": "4e3f7484",
   "metadata": {},
   "source": [
    "#### Conclusion\n",
    "* Overall the models showed great results with decent accuracy and low error rate.\n",
    "* As requested I have performed the EDA and model building for the assigned task but this model can be Hyper-tuned for more better clarity and result ,if we will try with different algorithm ,we might get different output and we can try ensemble technique too\n",
    "* Thanks for provinding this opportunity!"
   ]
  }
 ],
 "metadata": {
  "kernelspec": {
   "display_name": "Python 3 (ipykernel)",
   "language": "python",
   "name": "python3"
  },
  "language_info": {
   "codemirror_mode": {
    "name": "ipython",
    "version": 3
   },
   "file_extension": ".py",
   "mimetype": "text/x-python",
   "name": "python",
   "nbconvert_exporter": "python",
   "pygments_lexer": "ipython3",
   "version": "3.9.7"
  }
 },
 "nbformat": 4,
 "nbformat_minor": 5
}
